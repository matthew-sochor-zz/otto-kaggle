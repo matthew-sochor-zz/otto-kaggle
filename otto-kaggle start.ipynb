{
 "cells": [
  {
   "cell_type": "code",
   "execution_count": 1,
   "metadata": {
    "collapsed": true
   },
   "outputs": [],
   "source": [
    "import pandas as pd\n",
    "import numpy as np\n",
    "import seaborn as sn\n",
    "import sklearn\n",
    "from sklearn_pandas import DataFrameMapper, cross_val_score\n",
    "import re\n",
    "%matplotlib inline"
   ]
  },
  {
   "cell_type": "code",
   "execution_count": 2,
   "metadata": {
    "collapsed": true
   },
   "outputs": [],
   "source": [
    "from sklearn import ensemble\n",
    "from sklearn import grid_search\n",
    "from sklearn.feature_selection import RFECV"
   ]
  },
  {
   "cell_type": "code",
   "execution_count": 3,
   "metadata": {
    "collapsed": true
   },
   "outputs": [],
   "source": [
    "from sklearn import cluster"
   ]
  },
  {
   "cell_type": "markdown",
   "metadata": {},
   "source": [
    "# Kaggle competition: Otto group\n",
    "\n",
    "we want to classify the product based on 93 features"
   ]
  },
  {
   "cell_type": "code",
   "execution_count": 6,
   "metadata": {
    "collapsed": false
   },
   "outputs": [],
   "source": [
    "df_train = pd.read_csv('./train.csv')\n",
    "df_test = pd.read_csv('./test.csv')\n",
    "feats = [key for key in df_train.keys() if re.match('.*feat.*',key)]\n",
    "df_train = df_train[feats].astype(float)\n",
    "df_test = df_test[feats].astype(float)\n",
    "mapper = DataFrameMapper([(feats,sklearn.preprocessing.StandardScaler())])\n",
    "data_train_scaled = mapper.fit_transform(df_train)\n",
    "data_test_scaled = mapper.transform(df_test)\n",
    "data_test = df_test[feats]\n",
    "data_train =df_train[feats]"
   ]
  },
  {
   "cell_type": "code",
   "execution_count": null,
   "metadata": {
    "collapsed": true
   },
   "outputs": [],
   "source": []
  },
  {
   "cell_type": "code",
   "execution_count": 61,
   "metadata": {
    "collapsed": false
   },
   "outputs": [],
   "source": [
    "\n",
    "clf = ensemble.RandomForestClassifier()\n",
    "clf.fit(data_train_scaled,df_train['target'])\n",
    "test_pred_cat = clf.predict_proba(data_test_scaled)\n"
   ]
  },
  {
   "cell_type": "markdown",
   "metadata": {},
   "source": [
    "class sklearn.ensemble.RandomForestClassifier(n_estimators=10, criterion='gini', max_depth=None, min_samples_split=2, min_samples_leaf=1, min_weight_fraction_leaf=0.0, max_features='auto', max_leaf_nodes=None, bootstrap=True, oob_score=False, n_jobs=1, random_state=None, verbose=0, warm_start=False, class_weight=None)\n",
    "\n",
    " class sklearn.grid_search.GridSearchCV(estimator, param_grid, scoring=None, loss_func=None, score_func=None, fit_params=None, n_jobs=1, iid=True, refit=True, cv=None, verbose=0, pre_dispatch='2*n_jobs', error_score='raise')[source]¶"
   ]
  },
  {
   "cell_type": "code",
   "execution_count": 79,
   "metadata": {
    "collapsed": false
   },
   "outputs": [
    {
     "data": {
      "text/plain": [
       "GridSearchCV(cv=ShuffleSplit(61878, n_iter=3, test_size=0.25, random_state=None),\n",
       "       estimator=RandomForestClassifier(bootstrap=True, compute_importances=None,\n",
       "            criterion='gini', max_depth=None, max_features='auto',\n",
       "            max_leaf_nodes=None, min_density=None, min_samples_leaf=1,\n",
       "            min_samples_split=2, n_estimators=10, n_jobs=1,\n",
       "            oob_score=False, random_state=None, verbose=0),\n",
       "       fit_params={}, iid=True, loss_func=None, n_jobs=1,\n",
       "       param_grid={'n_estimators': [100, 200, 500]},\n",
       "       pre_dispatch='2*n_jobs', refit=True, score_func=None, scoring=None,\n",
       "       verbose=0)"
      ]
     },
     "execution_count": 79,
     "metadata": {},
     "output_type": "execute_result"
    }
   ],
   "source": [
    "cv = sklearn.cross_validation.ShuffleSplit(len(df_train['target']), n_iter=3, test_size=0.25)\n",
    "rfc = ensemble.RandomForestClassifier()\n",
    "params = {'n_estimators':[100,200,500]}\n",
    "gs = grid_search.GridSearchCV(rfc,params,cv=cv)\n",
    "gs.fit(data_train_scaled,df_train['target'])"
   ]
  },
  {
   "cell_type": "code",
   "execution_count": 82,
   "metadata": {
    "collapsed": false
   },
   "outputs": [],
   "source": [
    "probs = gs.predict_proba(data_test_scaled)"
   ]
  },
  {
   "cell_type": "code",
   "execution_count": 91,
   "metadata": {
    "collapsed": false
   },
   "outputs": [],
   "source": [
    "df_out = pd.DataFrame(probs,index=df_test['id'],columns=['Class_1','Class_2','Class_3','Class_4','Class_5','Class_6','Class_7','Class_8','Class_9'])"
   ]
  },
  {
   "cell_type": "code",
   "execution_count": 93,
   "metadata": {
    "collapsed": false
   },
   "outputs": [],
   "source": [
    "df_out.to_csv('submission_2.csv')"
   ]
  },
  {
   "cell_type": "markdown",
   "metadata": {},
   "source": [
    "# submission 2: scored .55487"
   ]
  },
  {
   "cell_type": "code",
   "execution_count": 97,
   "metadata": {
    "collapsed": false
   },
   "outputs": [
    {
     "data": {
      "text/plain": [
       "RandomForestClassifier(bootstrap=True, compute_importances=None,\n",
       "            criterion='gini', max_depth=None, max_features='auto',\n",
       "            max_leaf_nodes=None, min_density=None, min_samples_leaf=1,\n",
       "            min_samples_split=2, n_estimators=500, n_jobs=1,\n",
       "            oob_score=False, random_state=None, verbose=0)"
      ]
     },
     "execution_count": 97,
     "metadata": {},
     "output_type": "execute_result"
    }
   ],
   "source": [
    "rfc = ensemble.RandomForestClassifier(n_estimators=500)\n",
    "rfc.fit(data_train_scaled,df_train['target'])"
   ]
  },
  {
   "cell_type": "code",
   "execution_count": 101,
   "metadata": {
    "collapsed": true
   },
   "outputs": [],
   "source": [
    "from sklearn.cross_validation import cross_val_score"
   ]
  },
  {
   "cell_type": "code",
   "execution_count": 99,
   "metadata": {
    "collapsed": false
   },
   "outputs": [],
   "source": [
    "select = rfc.feature_importances_>np.mean(rfc.feature_importances_)"
   ]
  },
  {
   "cell_type": "code",
   "execution_count": 103,
   "metadata": {
    "collapsed": false
   },
   "outputs": [
    {
     "data": {
      "text/plain": [
       "(61878, 93)"
      ]
     },
     "execution_count": 103,
     "metadata": {},
     "output_type": "execute_result"
    }
   ],
   "source": [
    "np.shape(data_train_scaled)"
   ]
  },
  {
   "cell_type": "code",
   "execution_count": 104,
   "metadata": {
    "collapsed": false
   },
   "outputs": [
    {
     "data": {
      "text/plain": [
       "RandomForestClassifier(bootstrap=True, compute_importances=None,\n",
       "            criterion='gini', max_depth=None, max_features='auto',\n",
       "            max_leaf_nodes=None, min_density=None, min_samples_leaf=1,\n",
       "            min_samples_split=2, n_estimators=500, n_jobs=1,\n",
       "            oob_score=False, random_state=None, verbose=0)"
      ]
     },
     "execution_count": 104,
     "metadata": {},
     "output_type": "execute_result"
    }
   ],
   "source": [
    "rfc_important = ensemble.RandomForestClassifier(n_estimators=500)\n",
    "rfc_important.fit(data_train_scaled[:,select],df_train['target'])"
   ]
  },
  {
   "cell_type": "code",
   "execution_count": 105,
   "metadata": {
    "collapsed": true
   },
   "outputs": [],
   "source": [
    "rfc_important2 = ensemble.RandomForestClassifier(n_estimators=500)\n",
    "score = cross_val_score(rfc_important,data_train_scaled[:,select],df_train['target'])"
   ]
  },
  {
   "cell_type": "code",
   "execution_count": 107,
   "metadata": {
    "collapsed": false
   },
   "outputs": [],
   "source": [
    "select = rfc.feature_importances_<=np.mean(rfc.feature_importances_)"
   ]
  },
  {
   "cell_type": "code",
   "execution_count": 108,
   "metadata": {
    "collapsed": true
   },
   "outputs": [],
   "source": [
    "rfc_impocross_val_scorent = ensemble.RandomForestClassifier(n_estimators=500)\n",
    "score = cross_val_score(rfc_important,data_train_scaled[:,select],df_train['target'])\n"
   ]
  },
  {
   "cell_type": "code",
   "execution_count": 109,
   "metadata": {
    "collapsed": false
   },
   "outputs": [
    {
     "name": "stdout",
     "output_type": "stream",
     "text": [
      "[ 0.67626527  0.67768835  0.67717223]\n"
     ]
    }
   ],
   "source": [
    "print score"
   ]
  },
  {
   "cell_type": "code",
   "execution_count": 96,
   "metadata": {
    "collapsed": false
   },
   "outputs": [
    {
     "ename": "AttributeError",
     "evalue": "'RandomForestClassifier' object has no attribute 'coef_'",
     "output_type": "error",
     "traceback": [
      "\u001b[0;31m---------------------------------------------------------------------------\u001b[0m",
      "\u001b[0;31mAttributeError\u001b[0m                            Traceback (most recent call last)",
      "\u001b[0;32m<ipython-input-96-aaeb4d90c3fc>\u001b[0m in \u001b[0;36m<module>\u001b[0;34m()\u001b[0m\n\u001b[1;32m      3\u001b[0m rfecv = RFECV(estimator=rfc, step=1, cv=cv,\n\u001b[1;32m      4\u001b[0m               scoring='accuracy')\n\u001b[0;32m----> 5\u001b[0;31m \u001b[0mrfecv\u001b[0m\u001b[0;34m.\u001b[0m\u001b[0mfit\u001b[0m\u001b[0;34m(\u001b[0m\u001b[0mdata_train_scaled\u001b[0m\u001b[0;34m,\u001b[0m\u001b[0mdf_train\u001b[0m\u001b[0;34m[\u001b[0m\u001b[0;34m'target'\u001b[0m\u001b[0;34m]\u001b[0m\u001b[0;34m)\u001b[0m\u001b[0;34m\u001b[0m\u001b[0m\n\u001b[0m",
      "\u001b[0;32m/Users/matthewsochor/anaconda/lib/python2.7/site-packages/sklearn/feature_selection/rfe.pyc\u001b[0m in \u001b[0;36mfit\u001b[0;34m(self, X, y)\u001b[0m\n\u001b[1;32m    339\u001b[0m \u001b[0;34m\u001b[0m\u001b[0m\n\u001b[1;32m    340\u001b[0m             \u001b[0;31m# Compute a full ranking of the features\u001b[0m\u001b[0;34m\u001b[0m\u001b[0;34m\u001b[0m\u001b[0m\n\u001b[0;32m--> 341\u001b[0;31m             \u001b[0mranking_\u001b[0m \u001b[0;34m=\u001b[0m \u001b[0mrfe\u001b[0m\u001b[0;34m.\u001b[0m\u001b[0mfit\u001b[0m\u001b[0;34m(\u001b[0m\u001b[0mX_train\u001b[0m\u001b[0;34m,\u001b[0m \u001b[0my_train\u001b[0m\u001b[0;34m)\u001b[0m\u001b[0;34m.\u001b[0m\u001b[0mranking_\u001b[0m\u001b[0;34m\u001b[0m\u001b[0m\n\u001b[0m\u001b[1;32m    342\u001b[0m             \u001b[0;31m# Score each subset of features\u001b[0m\u001b[0;34m\u001b[0m\u001b[0;34m\u001b[0m\u001b[0m\n\u001b[1;32m    343\u001b[0m             \u001b[0;32mfor\u001b[0m \u001b[0mk\u001b[0m \u001b[0;32min\u001b[0m \u001b[0mrange\u001b[0m\u001b[0;34m(\u001b[0m\u001b[0;36m0\u001b[0m\u001b[0;34m,\u001b[0m \u001b[0mmax\u001b[0m\u001b[0;34m(\u001b[0m\u001b[0mranking_\u001b[0m\u001b[0;34m)\u001b[0m\u001b[0;34m)\u001b[0m\u001b[0;34m:\u001b[0m\u001b[0;34m\u001b[0m\u001b[0m\n",
      "\u001b[0;32m/Users/matthewsochor/anaconda/lib/python2.7/site-packages/sklearn/feature_selection/rfe.pyc\u001b[0m in \u001b[0;36mfit\u001b[0;34m(self, X, y)\u001b[0m\n\u001b[1;32m    148\u001b[0m             \u001b[0mestimator\u001b[0m\u001b[0;34m.\u001b[0m\u001b[0mfit\u001b[0m\u001b[0;34m(\u001b[0m\u001b[0mX\u001b[0m\u001b[0;34m[\u001b[0m\u001b[0;34m:\u001b[0m\u001b[0;34m,\u001b[0m \u001b[0mfeatures\u001b[0m\u001b[0;34m]\u001b[0m\u001b[0;34m,\u001b[0m \u001b[0my\u001b[0m\u001b[0;34m)\u001b[0m\u001b[0;34m\u001b[0m\u001b[0m\n\u001b[1;32m    149\u001b[0m \u001b[0;34m\u001b[0m\u001b[0m\n\u001b[0;32m--> 150\u001b[0;31m             \u001b[0;32mif\u001b[0m \u001b[0mestimator\u001b[0m\u001b[0;34m.\u001b[0m\u001b[0mcoef_\u001b[0m\u001b[0;34m.\u001b[0m\u001b[0mndim\u001b[0m \u001b[0;34m>\u001b[0m \u001b[0;36m1\u001b[0m\u001b[0;34m:\u001b[0m\u001b[0;34m\u001b[0m\u001b[0m\n\u001b[0m\u001b[1;32m    151\u001b[0m                 \u001b[0mranks\u001b[0m \u001b[0;34m=\u001b[0m \u001b[0mnp\u001b[0m\u001b[0;34m.\u001b[0m\u001b[0margsort\u001b[0m\u001b[0;34m(\u001b[0m\u001b[0msafe_sqr\u001b[0m\u001b[0;34m(\u001b[0m\u001b[0mestimator\u001b[0m\u001b[0;34m.\u001b[0m\u001b[0mcoef_\u001b[0m\u001b[0;34m)\u001b[0m\u001b[0;34m.\u001b[0m\u001b[0msum\u001b[0m\u001b[0;34m(\u001b[0m\u001b[0maxis\u001b[0m\u001b[0;34m=\u001b[0m\u001b[0;36m0\u001b[0m\u001b[0;34m)\u001b[0m\u001b[0;34m)\u001b[0m\u001b[0;34m\u001b[0m\u001b[0m\n\u001b[1;32m    152\u001b[0m             \u001b[0;32melse\u001b[0m\u001b[0;34m:\u001b[0m\u001b[0;34m\u001b[0m\u001b[0m\n",
      "\u001b[0;31mAttributeError\u001b[0m: 'RandomForestClassifier' object has no attribute 'coef_'"
     ]
    }
   ],
   "source": [
    "cv = sklearn.cross_validation.ShuffleSplit(len(df_train['target']), n_iter=3, test_size=0.25)\n",
    "rfc = ensemble.RandomForestClassifier(n_estimators=500)\n",
    "rfecv = RFECV(estimator=rfc, step=1, cv=cv,\n",
    "              scoring='accuracy')\n",
    "rfecv.fit(data_train_scaled,df_train['target'])"
   ]
  },
  {
   "cell_type": "code",
   "execution_count": 29,
   "metadata": {
    "collapsed": false
   },
   "outputs": [],
   "source": [
    "data_train,data_test,target_train,target_test = sklearn.cross_validation.train_test_split(df_t,np.array(df['target']))"
   ]
  },
  {
   "cell_type": "code",
   "execution_count": 49,
   "metadata": {
    "collapsed": false
   },
   "outputs": [],
   "source": [
    "def make_output(test_pred_cat,df_test,output_name):\n",
    "    cat = np.zeros(len(test_pred_cat),dtype=int)\n",
    "    df = pd.DataFrame({\n",
    "            'id': df_test['id'],\n",
    "            'Class_1':cat,\n",
    "            'Class_2':cat,\n",
    "            'Class_3':cat,\n",
    "            'Class_4':cat,\n",
    "            'Class_5':cat,\n",
    "            'Class_6':cat,\n",
    "            'Class_7':cat,\n",
    "            'Class_8':cat,\n",
    "            'Class_9':cat})\n",
    "    for i,pred in enumerate(test_pred_cat):\n",
    "        if pred == 'Class_1':\n",
    "            df['Class_1'][i] = 1\n",
    "        if pred == 'Class_2':\n",
    "            df['Class_2'][i] = 1\n",
    "        if pred == 'Class_3':\n",
    "            df['Class_3'][i] = 1\n",
    "        if pred == 'Class_4':\n",
    "            df['Class_4'][i] = 1\n",
    "        if pred == 'Class_5':\n",
    "            df['Class_5'][i] = 1\n",
    "        if pred == 'Class_6':\n",
    "            df['Class_6'][i] = 1\n",
    "        if pred == 'Class_7':\n",
    "            df['Class_7'][i] = 1\n",
    "        if pred == 'Class_8':\n",
    "            df['Class_8'][i] = 1\n",
    "        if pred == 'Class_9':\n",
    "            df['Class_9'][i] = 1\n",
    "    \n",
    "    df = df.set_index('id')\n",
    "    df.to_csv(output_name)#,columns=['id','Class_1','Class_2','Class_3','Class_4','Class_5','Class_6','Class_7','Class_8','Class_9'])"
   ]
  },
  {
   "cell_type": "code",
   "execution_count": 50,
   "metadata": {
    "collapsed": false
   },
   "outputs": [],
   "source": [
    "make_output(test_pred_cat,df_test,'submission1.csv')"
   ]
  },
  {
   "cell_type": "code",
   "execution_count": 140,
   "metadata": {
    "collapsed": false
   },
   "outputs": [
    {
     "data": {
      "text/plain": [
       "RandomForestClassifier(bootstrap=True, compute_importances=None,\n",
       "            criterion='gini', max_depth=None, max_features='auto',\n",
       "            max_leaf_nodes=None, min_density=None, min_samples_leaf=1,\n",
       "            min_samples_split=2, n_estimators=500, n_jobs=1,\n",
       "            oob_score=False, random_state=None, verbose=0)"
      ]
     },
     "execution_count": 140,
     "metadata": {},
     "output_type": "execute_result"
    }
   ],
   "source": [
    "clust = cluster.KMeans(n_clusters=3)\n",
    "data_train_scaled_clusts = clust.fit_predict(data_train_scaled)\n",
    "#x = data_train_scaled[data_train_scaled_clusts==1]\n",
    "c = 0\n",
    "rfc0 = ensemble.RandomForestClassifier(n_estimators=500)\n",
    "rfc0.fit(data_train_scaled[data_train_scaled_clusts==c],df_train['target'][data_train_scaled_clusts==c])\n",
    "\n",
    "c = 1\n",
    "rfc1 = ensemble.RandomForestClassifier(n_estimators=500)\n",
    "rfc1.fit(data_train_scaled[data_train_scaled_clusts==c],df_train['target'][data_train_scaled_clusts==c])\n",
    "\n",
    "c = 2\n",
    "rfc2 = ensemble.RandomForestClassifier(n_estimators=500)\n",
    "rfc2.fit(data_train_scaled[data_train_scaled_clusts==c],df_train['target'][data_train_scaled_clusts==c])\n"
   ]
  },
  {
   "cell_type": "code",
   "execution_count": 154,
   "metadata": {
    "collapsed": true
   },
   "outputs": [],
   "source": [
    "data_test_scaled_clusts = clust.predict(data_test_scaled)\n",
    "c = 0\n",
    "pred_probs0 = rfc0.predict_proba(data_test_scaled[data_test_scaled_clusts==c])\n",
    "df_out0 = pd.DataFrame(pred_probs0,index=df_test['id'][data_test_scaled_clusts==c],columns=rfc0.classes_)\n",
    "c = 1\n",
    "pred_probs1 = rfc1.predict_proba(data_test_scaled[data_test_scaled_clusts==c])\n",
    "df_out1 = pd.DataFrame(pred_probs1,index=df_test['id'][data_test_scaled_clusts==c],columns=rfc1.classes_)\n",
    "c = 2\n",
    "pred_probs2 = rfc2.predict_proba(data_test_scaled[data_test_scaled_clusts==c])\n",
    "df_out2 = pd.DataFrame(pred_probs2,index=df_test['id'][data_test_scaled_clusts==c],columns=rfc2.classes_)"
   ]
  },
  {
   "cell_type": "code",
   "execution_count": null,
   "metadata": {
    "collapsed": true
   },
   "outputs": [],
   "source": [
    "classes = rfc0.classes_\n",
    "for c in classes:\n",
    "    if c not in rfc1.classes_:\n",
    "        df_out1[c]=0\n",
    "    if c not in rfc2.classes_:\n",
    "        df_out2[c] =0\n",
    "        "
   ]
  },
  {
   "cell_type": "code",
   "execution_count": 179,
   "metadata": {
    "collapsed": false
   },
   "outputs": [],
   "source": [
    "c1 = df_out1.columns.tolist()\n",
    "c1.sort()\n",
    "df_out1 = df_out1[c1]\n",
    "c2 = df_out2.columns.tolist()\n",
    "c2.sort()\n",
    "df_out2 = df_out2[c2]"
   ]
  },
  {
   "cell_type": "code",
   "execution_count": 183,
   "metadata": {
    "collapsed": false
   },
   "outputs": [],
   "source": [
    "df_out = pd.concat([df_out0,df_out1,df_out2])"
   ]
  },
  {
   "cell_type": "code",
   "execution_count": 187,
   "metadata": {
    "collapsed": false
   },
   "outputs": [],
   "source": [
    "df_out = df_out.sort_index()\n",
    "df_out.to_csv('submit3.csv')"
   ]
  },
  {
   "cell_type": "markdown",
   "metadata": {},
   "source": [
    "# submit 3: slightly better\n",
    "\n",
    "Lets try the same thing but with 10 groups"
   ]
  },
  {
   "cell_type": "code",
   "execution_count": 437,
   "metadata": {
    "collapsed": false
   },
   "outputs": [
    {
     "name": "stdout",
     "output_type": "stream",
     "text": [
      "[ 0.74402549  0.73705179  0.74295587]\n",
      "[ 0.9480684   0.94606599  0.94850604]\n",
      "[ 0.86552567  0.85995086  0.85080148]\n",
      "[ 0.78143052  0.78470106  0.79106674]\n",
      "[ 0.88888889  0.95283019  0.97142857]\n",
      "[ 0.63437237  0.64273649  0.65564037]\n",
      "[ 0.70627063  0.72717272  0.70309051]\n",
      "[ 0.81514085  0.83185841  0.85257549]\n",
      "[ 0.96049896  0.95615866  0.96436059]\n",
      "[ 0.99299475  0.99357477  0.99298246]\n"
     ]
    }
   ],
   "source": [
    "clust = cluster.KMeans(n_clusters=10)\n",
    "data_train_scaled_clusts = clust.fit_predict(data_train_scaled)\n",
    "data_test_scaled_clusts = clust.predict(data_test_scaled)\n",
    "classes = ['Class_1','Class_2','Class_3','Class_4','Class_5','Class_6','Class_7','Class_8','Class_9']\n",
    "#x = data_train_scaled[data_train_scaled_clusts==1]\n",
    "score = []\n",
    "for c in xrange(10):\n",
    "    rfc = ensemble.RandomForestClassifier(n_estimators=100)\n",
    "    s = sklearn.cross_validation.cross_val_score(rfc,data_train_scaled[data_train_scaled_clusts==c],df_train['target'][data_train_scaled_clusts==c])\n",
    "    score.append(s)\n",
    "    print s\n",
    "    rfc = ensemble.RandomForestClassifier(n_estimators=100)\n",
    "    rfc.fit(data_train_scaled[data_train_scaled_clusts==c],df_train[data_train_scaled_clusts==c]['target'])\n",
    "    pred_probs = rfc.predict_proba(data_test_scaled[data_test_scaled_clusts==c])\n",
    "    df_part = pd.DataFrame(pred_probs,index=df_test['id'][data_test_scaled_clusts==c],columns=rfc.classes_)\n",
    "    for c in classes:\n",
    "        if c not in rfc.classes_:\n",
    "            df_part[c]=0\n",
    "            c1 = df_part.columns.tolist()\n",
    "            c1.sort()\n",
    "            df_part = df_part[c1]\n",
    "    if c == 0:\n",
    "        df_out = df_part\n",
    "    else:\n",
    "        df_out = pd.concat([df_out,df_part])\n",
    "\n",
    "df_out = df_out.sort_index()\n",
    "\n",
    "df_out.to_csv('submit4.csv')\n"
   ]
  },
  {
   "cell_type": "code",
   "execution_count": 438,
   "metadata": {
    "collapsed": false
   },
   "outputs": [
    {
     "ename": "NameError",
     "evalue": "name 'df_outET' is not defined",
     "output_type": "error",
     "traceback": [
      "\u001b[0;31m---------------------------------------------------------------------------\u001b[0m",
      "\u001b[0;31mNameError\u001b[0m                                 Traceback (most recent call last)",
      "\u001b[0;32m<ipython-input-438-8b3ef3f054cf>\u001b[0m in \u001b[0;36m<module>\u001b[0;34m()\u001b[0m\n\u001b[0;32m----> 1\u001b[0;31m \u001b[0mdf_outET\u001b[0m\u001b[0;34m.\u001b[0m\u001b[0mhead\u001b[0m\u001b[0;34m(\u001b[0m\u001b[0;34m)\u001b[0m\u001b[0;34m\u001b[0m\u001b[0m\n\u001b[0m",
      "\u001b[0;31mNameError\u001b[0m: name 'df_outET' is not defined"
     ]
    }
   ],
   "source": [
    "df_outET.head()"
   ]
  },
  {
   "cell_type": "code",
   "execution_count": 439,
   "metadata": {
    "collapsed": false
   },
   "outputs": [
    {
     "ename": "KeyError",
     "evalue": "False",
     "output_type": "error",
     "traceback": [
      "\u001b[0;31m---------------------------------------------------------------------------\u001b[0m",
      "\u001b[0;31mKeyError\u001b[0m                                  Traceback (most recent call last)",
      "\u001b[0;32m<ipython-input-439-195e421d2cc1>\u001b[0m in \u001b[0;36m<module>\u001b[0;34m()\u001b[0m\n\u001b[0;32m----> 1\u001b[0;31m \u001b[0ms\u001b[0m \u001b[0;34m=\u001b[0m \u001b[0mcross_val_score\u001b[0m\u001b[0;34m(\u001b[0m\u001b[0mrfc\u001b[0m\u001b[0;34m,\u001b[0m\u001b[0mdata_train_scaled\u001b[0m\u001b[0;34m[\u001b[0m\u001b[0mdata_train_scaled_clusts\u001b[0m\u001b[0;34m==\u001b[0m\u001b[0mc\u001b[0m\u001b[0;34m]\u001b[0m\u001b[0;34m,\u001b[0m\u001b[0mdf_train\u001b[0m\u001b[0;34m[\u001b[0m\u001b[0mdata_train_scaled_clusts\u001b[0m\u001b[0;34m==\u001b[0m\u001b[0mc\u001b[0m\u001b[0;34m]\u001b[0m\u001b[0;34m[\u001b[0m\u001b[0;34m'target'\u001b[0m\u001b[0;34m]\u001b[0m\u001b[0;34m)\u001b[0m\u001b[0;34m\u001b[0m\u001b[0m\n\u001b[0m\u001b[1;32m      2\u001b[0m \u001b[0;32mprint\u001b[0m \u001b[0ms\u001b[0m\u001b[0;34m\u001b[0m\u001b[0m\n",
      "\u001b[0;32m/Users/matthewsochor/anaconda/lib/python2.7/site-packages/pandas/core/frame.pyc\u001b[0m in \u001b[0;36m__getitem__\u001b[0;34m(self, key)\u001b[0m\n\u001b[1;32m   1676\u001b[0m             \u001b[0;32mreturn\u001b[0m \u001b[0mself\u001b[0m\u001b[0;34m.\u001b[0m\u001b[0m_getitem_multilevel\u001b[0m\u001b[0;34m(\u001b[0m\u001b[0mkey\u001b[0m\u001b[0;34m)\u001b[0m\u001b[0;34m\u001b[0m\u001b[0m\n\u001b[1;32m   1677\u001b[0m         \u001b[0;32melse\u001b[0m\u001b[0;34m:\u001b[0m\u001b[0;34m\u001b[0m\u001b[0m\n\u001b[0;32m-> 1678\u001b[0;31m             \u001b[0;32mreturn\u001b[0m \u001b[0mself\u001b[0m\u001b[0;34m.\u001b[0m\u001b[0m_getitem_column\u001b[0m\u001b[0;34m(\u001b[0m\u001b[0mkey\u001b[0m\u001b[0;34m)\u001b[0m\u001b[0;34m\u001b[0m\u001b[0m\n\u001b[0m\u001b[1;32m   1679\u001b[0m \u001b[0;34m\u001b[0m\u001b[0m\n\u001b[1;32m   1680\u001b[0m     \u001b[0;32mdef\u001b[0m \u001b[0m_getitem_column\u001b[0m\u001b[0;34m(\u001b[0m\u001b[0mself\u001b[0m\u001b[0;34m,\u001b[0m \u001b[0mkey\u001b[0m\u001b[0;34m)\u001b[0m\u001b[0;34m:\u001b[0m\u001b[0;34m\u001b[0m\u001b[0m\n",
      "\u001b[0;32m/Users/matthewsochor/anaconda/lib/python2.7/site-packages/pandas/core/frame.pyc\u001b[0m in \u001b[0;36m_getitem_column\u001b[0;34m(self, key)\u001b[0m\n\u001b[1;32m   1683\u001b[0m         \u001b[0;31m# get column\u001b[0m\u001b[0;34m\u001b[0m\u001b[0;34m\u001b[0m\u001b[0m\n\u001b[1;32m   1684\u001b[0m         \u001b[0;32mif\u001b[0m \u001b[0mself\u001b[0m\u001b[0;34m.\u001b[0m\u001b[0mcolumns\u001b[0m\u001b[0;34m.\u001b[0m\u001b[0mis_unique\u001b[0m\u001b[0;34m:\u001b[0m\u001b[0;34m\u001b[0m\u001b[0m\n\u001b[0;32m-> 1685\u001b[0;31m             \u001b[0;32mreturn\u001b[0m \u001b[0mself\u001b[0m\u001b[0;34m.\u001b[0m\u001b[0m_get_item_cache\u001b[0m\u001b[0;34m(\u001b[0m\u001b[0mkey\u001b[0m\u001b[0;34m)\u001b[0m\u001b[0;34m\u001b[0m\u001b[0m\n\u001b[0m\u001b[1;32m   1686\u001b[0m \u001b[0;34m\u001b[0m\u001b[0m\n\u001b[1;32m   1687\u001b[0m         \u001b[0;31m# duplicate columns & possible reduce dimensionaility\u001b[0m\u001b[0;34m\u001b[0m\u001b[0;34m\u001b[0m\u001b[0m\n",
      "\u001b[0;32m/Users/matthewsochor/anaconda/lib/python2.7/site-packages/pandas/core/generic.pyc\u001b[0m in \u001b[0;36m_get_item_cache\u001b[0;34m(self, item)\u001b[0m\n\u001b[1;32m   1050\u001b[0m         \u001b[0mres\u001b[0m \u001b[0;34m=\u001b[0m \u001b[0mcache\u001b[0m\u001b[0;34m.\u001b[0m\u001b[0mget\u001b[0m\u001b[0;34m(\u001b[0m\u001b[0mitem\u001b[0m\u001b[0;34m)\u001b[0m\u001b[0;34m\u001b[0m\u001b[0m\n\u001b[1;32m   1051\u001b[0m         \u001b[0;32mif\u001b[0m \u001b[0mres\u001b[0m \u001b[0;32mis\u001b[0m \u001b[0mNone\u001b[0m\u001b[0;34m:\u001b[0m\u001b[0;34m\u001b[0m\u001b[0m\n\u001b[0;32m-> 1052\u001b[0;31m             \u001b[0mvalues\u001b[0m \u001b[0;34m=\u001b[0m \u001b[0mself\u001b[0m\u001b[0;34m.\u001b[0m\u001b[0m_data\u001b[0m\u001b[0;34m.\u001b[0m\u001b[0mget\u001b[0m\u001b[0;34m(\u001b[0m\u001b[0mitem\u001b[0m\u001b[0;34m)\u001b[0m\u001b[0;34m\u001b[0m\u001b[0m\n\u001b[0m\u001b[1;32m   1053\u001b[0m             \u001b[0mres\u001b[0m \u001b[0;34m=\u001b[0m \u001b[0mself\u001b[0m\u001b[0;34m.\u001b[0m\u001b[0m_box_item_values\u001b[0m\u001b[0;34m(\u001b[0m\u001b[0mitem\u001b[0m\u001b[0;34m,\u001b[0m \u001b[0mvalues\u001b[0m\u001b[0;34m)\u001b[0m\u001b[0;34m\u001b[0m\u001b[0m\n\u001b[1;32m   1054\u001b[0m             \u001b[0mcache\u001b[0m\u001b[0;34m[\u001b[0m\u001b[0mitem\u001b[0m\u001b[0;34m]\u001b[0m \u001b[0;34m=\u001b[0m \u001b[0mres\u001b[0m\u001b[0;34m\u001b[0m\u001b[0m\n",
      "\u001b[0;32m/Users/matthewsochor/anaconda/lib/python2.7/site-packages/pandas/core/internals.pyc\u001b[0m in \u001b[0;36mget\u001b[0;34m(self, item, fastpath)\u001b[0m\n\u001b[1;32m   2563\u001b[0m \u001b[0;34m\u001b[0m\u001b[0m\n\u001b[1;32m   2564\u001b[0m             \u001b[0;32mif\u001b[0m \u001b[0;32mnot\u001b[0m \u001b[0misnull\u001b[0m\u001b[0;34m(\u001b[0m\u001b[0mitem\u001b[0m\u001b[0;34m)\u001b[0m\u001b[0;34m:\u001b[0m\u001b[0;34m\u001b[0m\u001b[0m\n\u001b[0;32m-> 2565\u001b[0;31m                 \u001b[0mloc\u001b[0m \u001b[0;34m=\u001b[0m \u001b[0mself\u001b[0m\u001b[0;34m.\u001b[0m\u001b[0mitems\u001b[0m\u001b[0;34m.\u001b[0m\u001b[0mget_loc\u001b[0m\u001b[0;34m(\u001b[0m\u001b[0mitem\u001b[0m\u001b[0;34m)\u001b[0m\u001b[0;34m\u001b[0m\u001b[0m\n\u001b[0m\u001b[1;32m   2566\u001b[0m             \u001b[0;32melse\u001b[0m\u001b[0;34m:\u001b[0m\u001b[0;34m\u001b[0m\u001b[0m\n\u001b[1;32m   2567\u001b[0m                 \u001b[0mindexer\u001b[0m \u001b[0;34m=\u001b[0m \u001b[0mnp\u001b[0m\u001b[0;34m.\u001b[0m\u001b[0marange\u001b[0m\u001b[0;34m(\u001b[0m\u001b[0mlen\u001b[0m\u001b[0;34m(\u001b[0m\u001b[0mself\u001b[0m\u001b[0;34m.\u001b[0m\u001b[0mitems\u001b[0m\u001b[0;34m)\u001b[0m\u001b[0;34m)\u001b[0m\u001b[0;34m[\u001b[0m\u001b[0misnull\u001b[0m\u001b[0;34m(\u001b[0m\u001b[0mself\u001b[0m\u001b[0;34m.\u001b[0m\u001b[0mitems\u001b[0m\u001b[0;34m)\u001b[0m\u001b[0;34m]\u001b[0m\u001b[0;34m\u001b[0m\u001b[0m\n",
      "\u001b[0;32m/Users/matthewsochor/anaconda/lib/python2.7/site-packages/pandas/core/index.pyc\u001b[0m in \u001b[0;36mget_loc\u001b[0;34m(self, key)\u001b[0m\n\u001b[1;32m   1179\u001b[0m         \u001b[0mloc\u001b[0m \u001b[0;34m:\u001b[0m \u001b[0mint\u001b[0m \u001b[0;32mif\u001b[0m \u001b[0munique\u001b[0m \u001b[0mindex\u001b[0m\u001b[0;34m,\u001b[0m \u001b[0mpossibly\u001b[0m \u001b[0mslice\u001b[0m \u001b[0;32mor\u001b[0m \u001b[0mmask\u001b[0m \u001b[0;32mif\u001b[0m \u001b[0;32mnot\u001b[0m\u001b[0;34m\u001b[0m\u001b[0m\n\u001b[1;32m   1180\u001b[0m         \"\"\"\n\u001b[0;32m-> 1181\u001b[0;31m         \u001b[0;32mreturn\u001b[0m \u001b[0mself\u001b[0m\u001b[0;34m.\u001b[0m\u001b[0m_engine\u001b[0m\u001b[0;34m.\u001b[0m\u001b[0mget_loc\u001b[0m\u001b[0;34m(\u001b[0m\u001b[0m_values_from_object\u001b[0m\u001b[0;34m(\u001b[0m\u001b[0mkey\u001b[0m\u001b[0;34m)\u001b[0m\u001b[0;34m)\u001b[0m\u001b[0;34m\u001b[0m\u001b[0m\n\u001b[0m\u001b[1;32m   1182\u001b[0m \u001b[0;34m\u001b[0m\u001b[0m\n\u001b[1;32m   1183\u001b[0m     \u001b[0;32mdef\u001b[0m \u001b[0mget_value\u001b[0m\u001b[0;34m(\u001b[0m\u001b[0mself\u001b[0m\u001b[0;34m,\u001b[0m \u001b[0mseries\u001b[0m\u001b[0;34m,\u001b[0m \u001b[0mkey\u001b[0m\u001b[0;34m)\u001b[0m\u001b[0;34m:\u001b[0m\u001b[0;34m\u001b[0m\u001b[0m\n",
      "\u001b[0;32mindex.pyx\u001b[0m in \u001b[0;36mpandas.index.IndexEngine.get_loc (pandas/index.c:3656)\u001b[0;34m()\u001b[0m\n",
      "\u001b[0;32mindex.pyx\u001b[0m in \u001b[0;36mpandas.index.IndexEngine.get_loc (pandas/index.c:3534)\u001b[0;34m()\u001b[0m\n",
      "\u001b[0;32mhashtable.pyx\u001b[0m in \u001b[0;36mpandas.hashtable.PyObjectHashTable.get_item (pandas/hashtable.c:11911)\u001b[0;34m()\u001b[0m\n",
      "\u001b[0;32mhashtable.pyx\u001b[0m in \u001b[0;36mpandas.hashtable.PyObjectHashTable.get_item (pandas/hashtable.c:11864)\u001b[0;34m()\u001b[0m\n",
      "\u001b[0;31mKeyError\u001b[0m: False"
     ]
    }
   ],
   "source": [
    "s = cross_val_score(rfc,data_train_scaled[data_train_scaled_clusts==c],df_train[data_train_scaled_clusts==c]['target'])\n",
    "print s    "
   ]
  },
  {
   "cell_type": "code",
   "execution_count": 444,
   "metadata": {
    "collapsed": true
   },
   "outputs": [],
   "source": [
    "df_outET = df_outET.sort_index()\n",
    "\n",
    "df_outET.to_csv('submit7.csv')"
   ]
  },
  {
   "cell_type": "code",
   "execution_count": 445,
   "metadata": {
    "collapsed": false
   },
   "outputs": [
    {
     "name": "stdout",
     "output_type": "stream",
     "text": [
      "[ 0.94852941  0.95232     0.94684598]\n",
      "[ 0.78229077  0.78086966  0.78652263]\n"
     ]
    }
   ],
   "source": [
    "nclust = 2\n",
    "clust = cluster.KMeans(n_clusters=nclust)\n",
    "data_train_scaled_clusts = clust.fit_predict(data_train_scaled)\n",
    "data_test_scaled_clusts = clust.predict(data_test_scaled)\n",
    "classes = ['Class_1','Class_2','Class_3','Class_4','Class_5','Class_6','Class_7','Class_8','Class_9']\n",
    "#x = data_train_scaled[data_train_scaled_clusts==1]\n",
    "score = []\n",
    "for c in xrange(nclust):\n",
    "    rfc = ensemble.ExtraTreesClassifier(n_estimators=500)\n",
    "    s = sklearn.cross_validation.cross_val_score(rfc,data_train_scaled[data_train_scaled_clusts==c],df_train[data_train_scaled_clusts==c]['target'])\n",
    "    score.append(s)\n",
    "    print s\n",
    "    rfc = ensemble.RandomForestClassifier(n_estimators=500)\n",
    "    rfc.fit(data_train_scaled[data_train_scaled_clusts==c],df_train[data_train_scaled_clusts==c]['target'])\n",
    "    pred_probs = rfc.predict_proba(data_test_scaled[data_test_scaled_clusts==c])\n",
    "    df_part = pd.DataFrame(pred_probs,index=df_test['id'][data_test_scaled_clusts==c],columns=rfc.classes_)\n",
    "    for cl in classes:\n",
    "        if cl not in rfc.classes_:\n",
    "            df_part[cl]=0\n",
    "            co1 = df_part.columns.tolist()\n",
    "            co1.sort()\n",
    "            df_part = df_part[co1]\n",
    "    if c == 0:\n",
    "        df_outET = df_part\n",
    "    else:\n",
    "        df_outET = pd.concat([df_outET,df_part])\n",
    "\n",
    "df_outET = df_outET.sort_index()\n",
    "\n",
    "df_outET.to_csv('submit6.csv')"
   ]
  },
  {
   "cell_type": "code",
   "execution_count": 442,
   "metadata": {
    "collapsed": false
   },
   "outputs": [
    {
     "data": {
      "text/html": [
       "<div style=\"max-height:1000px;max-width:1500px;overflow:auto;\">\n",
       "<table border=\"1\" class=\"dataframe\">\n",
       "  <thead>\n",
       "    <tr style=\"text-align: right;\">\n",
       "      <th></th>\n",
       "      <th>Class_1</th>\n",
       "      <th>Class_2</th>\n",
       "      <th>Class_3</th>\n",
       "      <th>Class_4</th>\n",
       "      <th>Class_5</th>\n",
       "      <th>Class_6</th>\n",
       "      <th>Class_7</th>\n",
       "      <th>Class_8</th>\n",
       "      <th>Class_9</th>\n",
       "    </tr>\n",
       "    <tr>\n",
       "      <th>id</th>\n",
       "      <th></th>\n",
       "      <th></th>\n",
       "      <th></th>\n",
       "      <th></th>\n",
       "      <th></th>\n",
       "      <th></th>\n",
       "      <th></th>\n",
       "      <th></th>\n",
       "      <th></th>\n",
       "    </tr>\n",
       "  </thead>\n",
       "  <tbody>\n",
       "    <tr>\n",
       "      <th>1</th>\n",
       "      <td> 0.02</td>\n",
       "      <td> 0.30</td>\n",
       "      <td> 0.21</td>\n",
       "      <td> 0.45</td>\n",
       "      <td> 0</td>\n",
       "      <td> 0.00</td>\n",
       "      <td> 0.02</td>\n",
       "      <td> 0.00</td>\n",
       "      <td> 0.00</td>\n",
       "    </tr>\n",
       "    <tr>\n",
       "      <th>2</th>\n",
       "      <td> 0.00</td>\n",
       "      <td> 0.00</td>\n",
       "      <td> 0.00</td>\n",
       "      <td> 0.00</td>\n",
       "      <td> 0</td>\n",
       "      <td> 0.59</td>\n",
       "      <td> 0.00</td>\n",
       "      <td> 0.39</td>\n",
       "      <td> 0.02</td>\n",
       "    </tr>\n",
       "    <tr>\n",
       "      <th>3</th>\n",
       "      <td> 0.00</td>\n",
       "      <td> 0.00</td>\n",
       "      <td> 0.00</td>\n",
       "      <td> 0.00</td>\n",
       "      <td> 0</td>\n",
       "      <td> 1.00</td>\n",
       "      <td> 0.00</td>\n",
       "      <td> 0.00</td>\n",
       "      <td> 0.00</td>\n",
       "    </tr>\n",
       "    <tr>\n",
       "      <th>4</th>\n",
       "      <td> 0.00</td>\n",
       "      <td> 0.64</td>\n",
       "      <td> 0.29</td>\n",
       "      <td> 0.07</td>\n",
       "      <td> 0</td>\n",
       "      <td> 0.00</td>\n",
       "      <td> 0.00</td>\n",
       "      <td> 0.00</td>\n",
       "      <td> 0.00</td>\n",
       "    </tr>\n",
       "    <tr>\n",
       "      <th>5</th>\n",
       "      <td> 0.03</td>\n",
       "      <td> 0.00</td>\n",
       "      <td> 0.00</td>\n",
       "      <td> 0.00</td>\n",
       "      <td> 0</td>\n",
       "      <td> 0.03</td>\n",
       "      <td> 0.04</td>\n",
       "      <td> 0.26</td>\n",
       "      <td> 0.64</td>\n",
       "    </tr>\n",
       "  </tbody>\n",
       "</table>\n",
       "</div>"
      ],
      "text/plain": [
       "    Class_1  Class_2  Class_3  Class_4  Class_5  Class_6  Class_7  Class_8  \\\n",
       "id                                                                           \n",
       "1      0.02     0.30     0.21     0.45        0     0.00     0.02     0.00   \n",
       "2      0.00     0.00     0.00     0.00        0     0.59     0.00     0.39   \n",
       "3      0.00     0.00     0.00     0.00        0     1.00     0.00     0.00   \n",
       "4      0.00     0.64     0.29     0.07        0     0.00     0.00     0.00   \n",
       "5      0.03     0.00     0.00     0.00        0     0.03     0.04     0.26   \n",
       "\n",
       "    Class_9  \n",
       "id           \n",
       "1      0.00  \n",
       "2      0.02  \n",
       "3      0.00  \n",
       "4      0.00  \n",
       "5      0.64  "
      ]
     },
     "execution_count": 442,
     "metadata": {},
     "output_type": "execute_result"
    }
   ],
   "source": [
    "df_outET.head()"
   ]
  },
  {
   "cell_type": "code",
   "execution_count": 228,
   "metadata": {
    "collapsed": true
   },
   "outputs": [],
   "source": [
    "from sklearn import qda\n",
    "from sklearn import lda\n",
    "from sklearn import decomposition"
   ]
  },
  {
   "cell_type": "code",
   "execution_count": 262,
   "metadata": {
    "collapsed": false
   },
   "outputs": [
    {
     "data": {
      "text/plain": [
       "array([[ 1.77990807,         nan,  3.9906971 , ...,         nan,\n",
       "        -0.02895472, -0.01080095],\n",
       "       [        nan,         nan,  2.41509505, ...,         nan,\n",
       "         0.70494658,  0.98613435],\n",
       "       [        nan,         nan,  2.38977904, ...,         nan,\n",
       "        -0.72536259,  0.11403872],\n",
       "       ..., \n",
       "       [        nan,         nan,         nan, ..., -0.68584549,\n",
       "                nan, -2.60557171],\n",
       "       [        nan,         nan,         nan, ...,         nan,\n",
       "        -1.10188112, -4.11086578],\n",
       "       [        nan,         nan,         nan, ...,         nan,\n",
       "        -4.84268766,         nan]])"
      ]
     },
     "execution_count": 262,
     "metadata": {},
     "output_type": "execute_result"
    }
   ],
   "source": [
    "np.log(df_train_pca4)"
   ]
  },
  {
   "cell_type": "code",
   "execution_count": 384,
   "metadata": {
    "collapsed": false
   },
   "outputs": [],
   "source": [
    "pca = decomposition.RandomizedPCA(n_components=3)\n",
    "df_train_pca4 = pca.fit_transform(df_train[data_train_scaled_clusts==4][feats])\n",
    "#clf = SVC(C=1,kernel='rbf',gamma=.001)\n",
    "#score = cross_val_score(clf,df_train_pca4,df_train[data_train_scaled_clusts==4]['target'])\n",
    "#print score\n",
    "#clf.fit(df_train_pca4,df_train[data_train_scaled_clusts==4]['target'])\n"
   ]
  },
  {
   "cell_type": "code",
   "execution_count": 392,
   "metadata": {
    "collapsed": false
   },
   "outputs": [
    {
     "data": {
      "image/png": "[encoded data removed]",
      "text/plain": [
       "<matplotlib.figure.Figure at 0x136a469d0>"
      ]
     },
     "metadata": {},
     "output_type": "display_data"
    }
   ],
   "source": [
    "from tsne import bh_sne\n",
    "X_2d = bh_sne(data_train_scaled[data_train_scaled_clusts==4])\n",
    "\n",
    "df = pd.DataFrame(X_2d,columns=['v1','v2'])\n",
    "df['target']= 0\n",
    "cmap = sn.color_palette(\"cubehelix\", 9)\n",
    "c = []\n",
    "for i,tar in enumerate(df_train[data_train_scaled_clusts==4]['target']):\n",
    "    n = re.search('[0-9]',tar)\n",
    "    df['target'][i] = int(n.group())\n",
    "    c.append(cmap[int(n.group())-1])\n",
    "df['cmap'] = c\n",
    "for i in xrange(9):\n",
    "    if i == 0:\n",
    "        ax= df[df['target']==i+1].plot(kind='scatter',x='v2',y='v1',color=cmap[i])\n",
    "    else:\n",
    "        ax = df[df['target']==i+1].plot(kind='scatter',x='v2',y='v1',color=cmap[i],ax=ax)"
   ]
  },
  {
   "cell_type": "code",
   "execution_count": 403,
   "metadata": {
    "collapsed": false
   },
   "outputs": [
    {
     "name": "stdout",
     "output_type": "stream",
     "text": [
      "0.608200455581\n"
     ]
    }
   ],
   "source": [
    "clf = SVC(C=1,kernel='rbf',gamma=.001)\n",
    "data_train,data_test,targ_train,targ_test = sklearn.cross_validation.train_test_split(X_2d,df_train[data_train_scaled_clusts==4]['target'])\n",
    "clf.fit(data_train,targ_train)\n",
    "score = clf.score(data_test,targ_test)\n",
    "print score\n",
    "#score = cross_val_score(clf,X_2d,df_train[data_train_scaled_clusts==4]['target'])\n",
    "#print score\n",
    "#clf.fit(df_train_pca4,df_train[data_train_scaled_clusts==4]['target'])"
   ]
  },
  {
   "cell_type": "code",
   "execution_count": 405,
   "metadata": {
    "collapsed": true
   },
   "outputs": [],
   "source": [
    "from sklearn import linear_model\n",
    "from sklearn.neural_network import BernoulliRBM\n",
    "from sklearn.pipeline import Pipeline\n"
   ]
  },
  {
   "cell_type": "code",
   "execution_count": 421,
   "metadata": {
    "collapsed": true
   },
   "outputs": [],
   "source": [
    "df_train_f = df_train\n",
    "df_train_f[feats] = df_train[feats].astype(float)\n",
    "df_test_f = df_test\n",
    "df_test_f[feats] = df_test[feats].astype(float)"
   ]
  },
  {
   "cell_type": "code",
   "execution_count": 418,
   "metadata": {
    "collapsed": false
   },
   "outputs": [
    {
     "data": {
      "text/html": [
       "<div style=\"max-height:1000px;max-width:1500px;overflow:auto;\">\n",
       "<table border=\"1\" class=\"dataframe\">\n",
       "  <thead>\n",
       "    <tr style=\"text-align: right;\">\n",
       "      <th></th>\n",
       "      <th>id</th>\n",
       "      <th>feat_1</th>\n",
       "      <th>feat_2</th>\n",
       "      <th>feat_3</th>\n",
       "      <th>feat_4</th>\n",
       "      <th>feat_5</th>\n",
       "      <th>feat_6</th>\n",
       "      <th>feat_7</th>\n",
       "      <th>feat_8</th>\n",
       "      <th>feat_9</th>\n",
       "      <th>...</th>\n",
       "      <th>feat_85</th>\n",
       "      <th>feat_86</th>\n",
       "      <th>feat_87</th>\n",
       "      <th>feat_88</th>\n",
       "      <th>feat_89</th>\n",
       "      <th>feat_90</th>\n",
       "      <th>feat_91</th>\n",
       "      <th>feat_92</th>\n",
       "      <th>feat_93</th>\n",
       "      <th>target</th>\n",
       "    </tr>\n",
       "  </thead>\n",
       "  <tbody>\n",
       "    <tr>\n",
       "      <th>0</th>\n",
       "      <td> 1</td>\n",
       "      <td> 1</td>\n",
       "      <td> 0</td>\n",
       "      <td> 0</td>\n",
       "      <td> 0</td>\n",
       "      <td> 0</td>\n",
       "      <td> 0</td>\n",
       "      <td> 0</td>\n",
       "      <td> 0</td>\n",
       "      <td> 0</td>\n",
       "      <td>...</td>\n",
       "      <td> 1</td>\n",
       "      <td> 0</td>\n",
       "      <td> 0</td>\n",
       "      <td> 0</td>\n",
       "      <td> 0</td>\n",
       "      <td> 0</td>\n",
       "      <td> 0</td>\n",
       "      <td> 0</td>\n",
       "      <td> 0</td>\n",
       "      <td> Class_1</td>\n",
       "    </tr>\n",
       "    <tr>\n",
       "      <th>1</th>\n",
       "      <td> 2</td>\n",
       "      <td> 0</td>\n",
       "      <td> 0</td>\n",
       "      <td> 0</td>\n",
       "      <td> 0</td>\n",
       "      <td> 0</td>\n",
       "      <td> 0</td>\n",
       "      <td> 0</td>\n",
       "      <td> 1</td>\n",
       "      <td> 0</td>\n",
       "      <td>...</td>\n",
       "      <td> 0</td>\n",
       "      <td> 0</td>\n",
       "      <td> 0</td>\n",
       "      <td> 0</td>\n",
       "      <td> 0</td>\n",
       "      <td> 0</td>\n",
       "      <td> 0</td>\n",
       "      <td> 0</td>\n",
       "      <td> 0</td>\n",
       "      <td> Class_1</td>\n",
       "    </tr>\n",
       "    <tr>\n",
       "      <th>2</th>\n",
       "      <td> 3</td>\n",
       "      <td> 0</td>\n",
       "      <td> 0</td>\n",
       "      <td> 0</td>\n",
       "      <td> 0</td>\n",
       "      <td> 0</td>\n",
       "      <td> 0</td>\n",
       "      <td> 0</td>\n",
       "      <td> 1</td>\n",
       "      <td> 0</td>\n",
       "      <td>...</td>\n",
       "      <td> 0</td>\n",
       "      <td> 0</td>\n",
       "      <td> 0</td>\n",
       "      <td> 0</td>\n",
       "      <td> 0</td>\n",
       "      <td> 0</td>\n",
       "      <td> 0</td>\n",
       "      <td> 0</td>\n",
       "      <td> 0</td>\n",
       "      <td> Class_1</td>\n",
       "    </tr>\n",
       "    <tr>\n",
       "      <th>3</th>\n",
       "      <td> 4</td>\n",
       "      <td> 1</td>\n",
       "      <td> 0</td>\n",
       "      <td> 0</td>\n",
       "      <td> 1</td>\n",
       "      <td> 6</td>\n",
       "      <td> 1</td>\n",
       "      <td> 5</td>\n",
       "      <td> 0</td>\n",
       "      <td> 0</td>\n",
       "      <td>...</td>\n",
       "      <td> 0</td>\n",
       "      <td> 1</td>\n",
       "      <td> 2</td>\n",
       "      <td> 0</td>\n",
       "      <td> 0</td>\n",
       "      <td> 0</td>\n",
       "      <td> 0</td>\n",
       "      <td> 0</td>\n",
       "      <td> 0</td>\n",
       "      <td> Class_1</td>\n",
       "    </tr>\n",
       "    <tr>\n",
       "      <th>4</th>\n",
       "      <td> 5</td>\n",
       "      <td> 0</td>\n",
       "      <td> 0</td>\n",
       "      <td> 0</td>\n",
       "      <td> 0</td>\n",
       "      <td> 0</td>\n",
       "      <td> 0</td>\n",
       "      <td> 0</td>\n",
       "      <td> 0</td>\n",
       "      <td> 0</td>\n",
       "      <td>...</td>\n",
       "      <td> 1</td>\n",
       "      <td> 0</td>\n",
       "      <td> 0</td>\n",
       "      <td> 0</td>\n",
       "      <td> 0</td>\n",
       "      <td> 1</td>\n",
       "      <td> 0</td>\n",
       "      <td> 0</td>\n",
       "      <td> 0</td>\n",
       "      <td> Class_1</td>\n",
       "    </tr>\n",
       "  </tbody>\n",
       "</table>\n",
       "<p>5 rows × 95 columns</p>\n",
       "</div>"
      ],
      "text/plain": [
       "   id  feat_1  feat_2  feat_3  feat_4  feat_5  feat_6  feat_7  feat_8  feat_9  \\\n",
       "0   1       1       0       0       0       0       0       0       0       0   \n",
       "1   2       0       0       0       0       0       0       0       1       0   \n",
       "2   3       0       0       0       0       0       0       0       1       0   \n",
       "3   4       1       0       0       1       6       1       5       0       0   \n",
       "4   5       0       0       0       0       0       0       0       0       0   \n",
       "\n",
       "    ...    feat_85  feat_86  feat_87  feat_88  feat_89  feat_90  feat_91  \\\n",
       "0   ...          1        0        0        0        0        0        0   \n",
       "1   ...          0        0        0        0        0        0        0   \n",
       "2   ...          0        0        0        0        0        0        0   \n",
       "3   ...          0        1        2        0        0        0        0   \n",
       "4   ...          1        0        0        0        0        1        0   \n",
       "\n",
       "   feat_92  feat_93   target  \n",
       "0        0        0  Class_1  \n",
       "1        0        0  Class_1  \n",
       "2        0        0  Class_1  \n",
       "3        0        0  Class_1  \n",
       "4        0        0  Class_1  \n",
       "\n",
       "[5 rows x 95 columns]"
      ]
     },
     "execution_count": 418,
     "metadata": {},
     "output_type": "execute_result"
    }
   ],
   "source": [
    "df_train_f['feat_1'] = df_train['feat_1']/100.\n",
    "df_train_f.head()"
   ]
  },
  {
   "cell_type": "code",
   "execution_count": 420,
   "metadata": {
    "collapsed": false
   },
   "outputs": [
    {
     "data": {
      "text/plain": [
       "0     0\n",
       "1     0\n",
       "2     0\n",
       "3     0\n",
       "4     0\n",
       "5     1\n",
       "6     0\n",
       "7     0\n",
       "8     0\n",
       "9     0\n",
       "10    1\n",
       "11    1\n",
       "12    0\n",
       "13    0\n",
       "14    0\n",
       "...\n",
       "61863    0\n",
       "61864    0\n",
       "61865    0\n",
       "61866    0\n",
       "61867    0\n",
       "61868    0\n",
       "61869    0\n",
       "61870    0\n",
       "61871    0\n",
       "61872    0\n",
       "61873    0\n",
       "61874    0\n",
       "61875    0\n",
       "61876    0\n",
       "61877    0\n",
       "Name: feat_2, Length: 61878, dtype: float64"
      ]
     },
     "execution_count": 420,
     "metadata": {},
     "output_type": "execute_result"
    }
   ],
   "source": [
    "df_train_f['feat_2']"
   ]
  },
  {
   "cell_type": "code",
   "execution_count": 422,
   "metadata": {
    "collapsed": false
   },
   "outputs": [],
   "source": [
    "\n",
    "mapper = DataFrameMapper([(feats,sklearn.preprocessing.MinMaxScaler())])\n",
    "data_train_minmax = mapper.fit_transform(df_train_f)\n",
    "data_test_minmax = mapper.transform(df_test)"
   ]
  },
  {
   "cell_type": "code",
   "execution_count": 428,
   "metadata": {
    "collapsed": false
   },
   "outputs": [
    {
     "name": "stdout",
     "output_type": "stream",
     "text": [
      "[BernoulliRBM] Iteration 1, pseudo-likelihood = -185003.68, time = 1.38s\n",
      "[BernoulliRBM] Iteration 2, pseudo-likelihood = -369079.37, time = 1.48s\n",
      "[BernoulliRBM] Iteration 3, pseudo-likelihood = -553119.01, time = 1.60s\n",
      "[BernoulliRBM] Iteration 4, pseudo-likelihood = -737158.85, time = 1.60s\n",
      "[BernoulliRBM] Iteration 5, pseudo-likelihood = -921195.96, time = 1.57s\n",
      "[BernoulliRBM] Iteration 6, pseudo-likelihood = -1105207.81, time = 1.82s\n",
      "[BernoulliRBM] Iteration 7, pseudo-likelihood = -1289217.94, time = 1.97s\n",
      "[BernoulliRBM] Iteration 8, pseudo-likelihood = -1473229.96, time = 1.71s\n",
      "[BernoulliRBM] Iteration 9, pseudo-likelihood = -1657237.00, time = 2.04s\n",
      "[BernoulliRBM] Iteration 10, pseudo-likelihood = -1841239.11, time = 1.78s\n",
      "[BernoulliRBM] Iteration 11, pseudo-likelihood = -2025216.95, time = 1.59s\n",
      "[BernoulliRBM] Iteration 12, pseudo-likelihood = -2209236.26, time = 1.64s\n",
      "[BernoulliRBM] Iteration 13, pseudo-likelihood = -2393224.24, time = 1.63s\n",
      "[BernoulliRBM] Iteration 14, pseudo-likelihood = -2577223.79, time = 1.70s\n",
      "[BernoulliRBM] Iteration 15, pseudo-likelihood = -2761227.46, time = 1.74s\n",
      "[BernoulliRBM] Iteration 16, pseudo-likelihood = -2945213.16, time = 1.66s\n",
      "[BernoulliRBM] Iteration 17, pseudo-likelihood = -3129199.28, time = 1.66s\n",
      "[BernoulliRBM] Iteration 18, pseudo-likelihood = -3313189.30, time = 1.72s\n",
      "[BernoulliRBM] Iteration 19, pseudo-likelihood = -3497149.10, time = 1.63s\n",
      "[BernoulliRBM] Iteration 20, pseudo-likelihood = -3681148.34, time = 1.72s\n",
      "0.258888170653\n"
     ]
    }
   ],
   "source": [
    "rfc = ensemble.RandomForestClassifier()\n",
    "rbm = BernoulliRBM(random_state=0, verbose=True)\n",
    "data_train,data_test,targ_train,targ_test = sklearn.cross_validation.train_test_split(df_train_f[feats],df_train_f['target'])\n",
    "\n",
    "classifier = Pipeline(steps=[('rbm', rbm), ('forest', rfc)])\n",
    "\n",
    "###############################################################################\n",
    "# Training\n",
    "\n",
    "# Hyper-parameters. These were set by cross-validation,\n",
    "# using a GridSearchCV. Here we are not performing cross-validation to\n",
    "# save time.\n",
    "#rbm.learning_rate = 0.06\n",
    "# More components tend to give better prediction performance, but larger\n",
    "rbm.n_iter = 20\n",
    "# fitting time\n",
    "rbm.n_components = 100\n",
    "#logistic.C = 6000.0\n",
    "\n",
    "# Training RBM-Logistic Pipeline\n",
    "classifier.fit(data_train, targ_train)\n",
    "score = classifier.score(data_test,targ_test)\n",
    "print score"
   ]
  },
  {
   "cell_type": "markdown",
   "metadata": {},
   "source": [
    "# 4/26/2015\n",
    "\n",
    "I was wondering what the numbers for each feature mean.  Currently, I am assuming that number says something about the feature (which it probably does) but what does it mean to be a 6 of a feature versus a 5.  If they are sub-categories there is less reason to convolve them.\n",
    "\n",
    "I want to try to split them so we have >> 93 categories"
   ]
  },
  {
   "cell_type": "code",
   "execution_count": 4,
   "metadata": {
    "collapsed": true
   },
   "outputs": [],
   "source": [
    "df_train = pd.read_csv('./train.csv')\n",
    "df_test = pd.read_csv('./test.csv')\n",
    "feats = [key for key in df_train.keys() if re.match('.*feat.*',key)]\n",
    "df_train = df_train[feats].astype(float)\n",
    "df_test = df_test[feats].astype(float)\n",
    "mapper = DataFrameMapper([(feats,sklearn.preprocessing.StandardScaler())])\n",
    "data_train_scaled = mapper.fit_transform(df_train)\n",
    "data_test_scaled = mapper.transform(df_test)\n",
    "data_test = df_test[feats]\n",
    "data_train =df_train[feats]"
   ]
  },
  {
   "cell_type": "code",
   "execution_count": 12,
   "metadata": {
    "collapsed": true
   },
   "outputs": [],
   "source": [
    "from tsne import bh_sne\n",
    "X_2d = bh_sne(data_train_scaled)"
   ]
  },
  {
   "cell_type": "code",
   "execution_count": 11,
   "metadata": {
    "collapsed": false
   },
   "outputs": [
    {
     "data": {
      "text/plain": [
       "<matplotlib.axes._subplots.AxesSubplot at 0x10b4ff750>"
      ]
     },
     "execution_count": 11,
     "metadata": {},
     "output_type": "execute_result"
    },
    {
     "data": {
      "image/png": "[encoded data removed]",
      "text/plain": [
       "<matplotlib.figure.Figure at 0x10b509b10>"
      ]
     },
     "metadata": {},
     "output_type": "display_data"
    }
   ],
   "source": [
    "df = pd.DataFrame(X_2d,columns=['v1','v2'])\n",
    "df['target']= 0\n",
    "cmap = sn.color_palette(\"cubehelix\", 9)\n",
    "c = []\n",
    "for i,tar in enumerate(df_train[data_train_scaled_clusts==4]['target']):\n",
    "    n = re.search('[0-9]',tar)\n",
    "    df['target'][i] = int(n.group())\n",
    "    c.append(cmap[int(n.group())-1])\n",
    "df['cmap'] = c\n",
    "for i in xrange(9):\n",
    "    if i == 0:\n",
    "        ax= df[df['target']==i+1].plot(kind='scatter',x='v2',y='v1',color=cmap[i])\n",
    "    else:\n",
    "        ax = df[df['target']==i+1].plot(kind='scatter',x='v2',y='v1',color=cmap[i],ax=ax)"
   ]
  }
 ],
 "metadata": {
  "kernelspec": {
   "display_name": "Python 2",
   "language": "python",
   "name": "python2"
  },
  "language_info": {
   "codemirror_mode": {
    "name": "ipython",
    "version": 2
   },
   "file_extension": ".py",
   "mimetype": "text/x-python",
   "name": "python",
   "nbconvert_exporter": "python",
   "pygments_lexer": "ipython2",
   "version": "2.7.9"
  }
 },
 "nbformat": 4,
 "nbformat_minor": 0
}
